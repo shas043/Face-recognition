{
 "cells": [
  {
   "cell_type": "code",
   "execution_count": 1,
   "metadata": {},
   "outputs": [],
   "source": [
    "# import libraries\n",
    "import face_recognition\n",
    "import os\n",
    "import cv2"
   ]
  },
  {
   "cell_type": "code",
   "execution_count": 2,
   "metadata": {},
   "outputs": [
    {
     "data": {
      "text/plain": [
       "'/Users/Admin/jupyter/Self Study files/Face Recognition'"
      ]
     },
     "execution_count": 2,
     "metadata": {},
     "output_type": "execute_result"
    }
   ],
   "source": [
    "pwd #gets the current working directory"
   ]
  },
  {
   "cell_type": "code",
   "execution_count": 3,
   "metadata": {},
   "outputs": [],
   "source": [
    "#declare variables\n",
    "KNOWN_FACES_DIR=\"known_faces\"\n",
    "UNKNOWN_FACES_DIR=\"unknown_faces\"\n",
    "TOLERANCE = 0.6\n",
    "FRAME_THICKNESS=3\n",
    "FONT_THICKNESS=2\n",
    "MODEL=\"cnn\""
   ]
  },
  {
   "cell_type": "code",
   "execution_count": 4,
   "metadata": {},
   "outputs": [
    {
     "name": "stdout",
     "output_type": "stream",
     "text": [
      "loading known faces\n"
     ]
    }
   ],
   "source": [
    "print('loading known faces')"
   ]
  },
  {
   "cell_type": "code",
   "execution_count": 5,
   "metadata": {},
   "outputs": [],
   "source": [
    "known_faces=[]\n",
    "known_names=[]"
   ]
  },
  {
   "cell_type": "code",
   "execution_count": 6,
   "metadata": {},
   "outputs": [],
   "source": [
    "#iterate over all the known faces and store that information/encodings\n",
    "for i in os.listdir(KNOWN_FACES_DIR):\n",
    "    #to iterate over all the images in that dir\n",
    "    for filename in os.listdir(f\"{KNOWN_FACES_DIR}/{i}\"):\n",
    "        image=face_recognition.load_image_file(f\"{KNOWN_FACES_DIR}/{i}/{filename}\")\n",
    "        encoding=face_recognition.face_encodings(image)[0]\n",
    "        known_faces.append(encoding)\n",
    "        known_names.append(i)\n",
    "       "
   ]
  },
  {
   "cell_type": "code",
   "execution_count": 7,
   "metadata": {},
   "outputs": [
    {
     "name": "stdout",
     "output_type": "stream",
     "text": [
      "processing unknown images\n"
     ]
    }
   ],
   "source": [
    "print('processing unknown images')"
   ]
  },
  {
   "cell_type": "code",
   "execution_count": null,
   "metadata": {},
   "outputs": [
    {
     "name": "stdout",
     "output_type": "stream",
     "text": [
      "elon musk33.jpg\n"
     ]
    }
   ],
   "source": [
    "for i in os.listdir(UNKNOWN_FACES_DIR):\n",
    "    print(i)\n",
    "    image=face_recognition.load_image_file(f\"{UNKNOWN_FACES_DIR}/{i}\")\n",
    "    locations=face_recognition.face_locations(image, model=MODEL)\n",
    "    encodings=face_recognition.face_encodings(image, locations)\n",
    "    image=cv2.cvtColor(image,cv2.COLOR_RGB2BGR)\n",
    "    \n",
    "    for face_encoding, face_location in zip(encodings, locations):\n",
    "        results=face_recognition.compare_faces(known_faces, face_encoding, TOLERANCE)\n",
    "        match=None\n",
    "        if True in results:\n",
    "            match = known_names[results.index(True)]\n",
    "            print(f\"match found:{match}\")\n",
    "            \n",
    "            top_left=(face_location[3], face_location[0])\n",
    "            bottom_right=(face_location[1], face_location[2])\n",
    "            \n",
    "            color=[0,255,0]\n",
    "            cv2.rectangle(image, top_left, bottom_right, color, FRAME_THICKNESS)\n",
    "            \n",
    "            #small rectangle at the bottom of the big rectangle to hold the text \n",
    "            top_left=(face_location[3], face_location[1])\n",
    "            bottom_right=(face_location[1], face_location[2]+22)\n",
    "            cv2.rectangle(image, top_left, bottom_right, color, cv2.FILLED)\n",
    "            cv2.putText(image, match, (face_location[3]+10, face_location[1]+15), cv2.FONT_HERSHEY_SIMPLEX, 0.5, (200,200,200), FONT_THICKNESS)\n",
    "            \n",
    "    cv2.imshow(filename, image)\n",
    "    #cv2.waitKey(2000)"
   ]
  },
  {
   "cell_type": "code",
   "execution_count": null,
   "metadata": {},
   "outputs": [],
   "source": []
  }
 ],
 "metadata": {
  "kernelspec": {
   "display_name": "Python 3",
   "language": "python",
   "name": "python3"
  },
  "language_info": {
   "codemirror_mode": {
    "name": "ipython",
    "version": 3
   },
   "file_extension": ".py",
   "mimetype": "text/x-python",
   "name": "python",
   "nbconvert_exporter": "python",
   "pygments_lexer": "ipython3",
   "version": "3.7.4"
  }
 },
 "nbformat": 4,
 "nbformat_minor": 2
}
